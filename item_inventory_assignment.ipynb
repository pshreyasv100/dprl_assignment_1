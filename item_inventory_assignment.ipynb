{
 "cells": [
  {
   "cell_type": "code",
   "execution_count": 1,
   "metadata": {},
   "outputs": [
    {
     "name": "stdout",
     "output_type": "stream",
     "text": [
      "20.0 20.0 20.0 20.0 20.000000000000057 20.000000000009585 20.000000001917602 20.0000004794 20.000159800000002 20.079900000000002 0.0 \n",
      "39.9898990927493 39.98990927492961 39.98991943662314 39.98992957789211 39.9899396988651 39.989949809262654 39.98996147092744 39.99024836126 40.02968022 19.97001 0.01 \n",
      "59.96970756296519 59.96973807848762 59.9697685326766 59.96979892595354 59.96982928292809 59.96986208683606 59.97008465265232 59.949321209340006 39.91001 19.970010000000002 0.02 \n",
      "79.93943566403482 79.93949663320629 79.93955748042059 79.93961823433423 79.93967948380671 79.93942824861156 79.83880384450265 59.81998 39.90001 19.97001 0.03 \n",
      "99.89909361818023 99.89919513059941 99.89929638917768 99.89938758976558 99.89798033507157 99.69810932528013 79.6999 59.799980000000005 39.890010000000004 19.970010000000002 0.04 \n",
      "119.84869161251139 119.848843321797 119.84895556910274 119.84538500691136 119.52721916932843 99.54974999999999 79.66990000000001 59.77998 39.88001 19.97001 0.05 \n",
      "139.7882383490452 139.78834604661728 139.78123084849722 139.32611520514314 119.36950999999999 99.50975000000003 79.63990000000001 59.75998 39.87001 19.970010000000002 0.06 \n",
      "159.71751311402042 159.70505278693227 159.094779563502 139.15915999999999 119.31951000000002 99.46975 79.6099 59.73998 39.86001 19.97001 0.07 \n",
      "179.61633420573725 178.83319466743046 158.91868 139.09916 119.26951000000001 99.42974999999998 79.57990000000001 59.71998000000001 39.85001 19.970010000000002 0.08 \n",
      "198.54134322075618 178.64804999999998 158.84868 139.03916 119.21950999999999 99.38975000000002 79.54990000000001 59.69998 39.84001000000001 19.970010000000002 0.09 \n",
      "0.0 0.0 0.0 0.0 0.0 0.0 0.0 0.0 0.0 0.0 0.1 \n",
      "-------------------\n",
      "------------\n",
      "0.0 0.0 0.0 0.0 0.0 0.0 0.0 0.0 0.0 0.0 0.0 \n",
      "0.0 0.0 0.0 0.0 0.0 0.0 0.0 0.0 0.0 0.0 0.0 \n",
      "0.0 0.0 0.0 0.0 0.0 0.0 0.0 0.0 0.0 0.0 0.0 \n",
      "0.0 0.0 0.0 0.0 0.0 0.0 0.0 0.0 0.0 0.0 0.0 \n",
      "0.0 0.0 0.0 0.0 0.0 0.0 0.0 0.0 0.0 0.0 0.0 \n",
      "0.0 0.0 0.0 0.0 0.0 0.0 0.0 0.0 0.0 0.0 0.0 \n",
      "0.0 0.0 0.0 0.0 0.0 0.0 0.0 0.0 0.0 0.0 0.0 \n",
      "0.0 0.0 0.0 0.0 0.0 0.0 0.0 0.0 0.0 0.0 0.0 \n",
      "0.0 0.0 0.0 0.0 0.0 0.0 0.0 0.0 0.0 0.0 0.0 \n",
      "0.0 0.0 0.0 0.0 0.0 0.0 0.0 0.0 0.0 0.0 0.0 \n",
      "0.0 0.0 0.0 0.0 0.0 0.0 0.0 0.0 0.0 0.0 0.0 \n",
      "------------\n",
      "0.0 2245.5172475053055 2245.597457495479 2245.6678970374714 2245.728585364523 2245.7795413819986 2245.8207836681167 2245.8523304748733 2245.8741997291545 2245.8864090340426 2245.8889756703034 \n",
      "0.0 2259.155089630716 2259.1586508240443 2259.1556262825343 2259.1458781609235 2259.1292771038106 2259.1057016939394 2259.0750379387227 2259.0371787921636 2258.992023709568 2258.9394782326285 \n",
      "0.0 2270.9473540078125 2270.9591545114995 2270.9627687965276 2270.958205779383 2270.9454705531807 2270.9245648690567 2270.895487566825 2270.85823496 2270.8128011797617 2270.7591784820065 \n",
      "0.0 2282.2085992421876 2282.229869957634 2282.2424292785977 2282.246293541885 2282.2414775699517 2282.2279947192023 2282.205856935414 2282.1750748143945 2282.1356576662865 2282.087613582188 \n",
      "0.0 2293.166952774037 2293.197920824904 2293.2198757177825 2293.2328353431863 2293.2368166997053 2293.2318359056376 2293.217908213305 2293.1950480257847 2293.163268915781 2293.1225836463586 \n",
      "0.0 2303.9104550012344 2303.9512082886986 2303.982734005274 2304.005050651198 2304.018176088754 2304.0221275469603 2304.0169216274453 2304.0025743114447 2303.979100967861 2303.946516362305 \n",
      "0.0 2314.4847141133014 2314.535298203216 2314.5764857066183 2314.6082954409876 2314.6307457195107 2314.6438543535437 2314.6476386557138 2314.6421154436393 2314.6273010442505 2314.6032112986777 \n",
      "0.0 2324.9174193952736 2324.9778619590293 2325.028766520658 2325.070152090607 2325.102037256756 2325.1244401859176 2325.1373786257373 2325.1408699069807 2325.134930946196 2325.1195782487466 \n",
      "0.0 2335.2271477169197 2335.297467322283 2335.358126041324 2335.4091430140943 2335.4505370131196 2335.482326444412 2335.5045293487506 2335.5171634032245 2335.520245923039 2335.5137938635726 \n",
      "0.0 2345.4272475053053 2345.507457495479 2345.5778970374713 2345.638585364523 2345.689541381999 2345.730783668117 2345.7623304748736 2345.784199729155 2345.796409034043 2345.7989756703037 \n",
      "0.0 0.0 0.0 0.0 0.0 0.0 0.0 0.0 0.0 0.0 0.0 \n",
      "------------\n",
      "0.0 9.0 9.0 9.0 9.0 9.0 9.0 9.0 9.0 9.0 9.0 \n",
      "0.0 0.0 0.0 0.0 0.0 0.0 0.0 0.0 0.0 0.0 0.0 \n",
      "0.0 0.0 0.0 0.0 0.0 0.0 0.0 0.0 0.0 0.0 0.0 \n",
      "0.0 0.0 0.0 0.0 0.0 0.0 0.0 0.0 0.0 0.0 0.0 \n",
      "0.0 0.0 0.0 0.0 0.0 0.0 0.0 0.0 0.0 0.0 0.0 \n",
      "0.0 0.0 0.0 0.0 0.0 0.0 0.0 0.0 0.0 0.0 0.0 \n",
      "0.0 0.0 0.0 0.0 0.0 0.0 0.0 0.0 0.0 0.0 0.0 \n",
      "0.0 0.0 0.0 0.0 0.0 0.0 0.0 0.0 0.0 0.0 0.0 \n",
      "0.0 0.0 0.0 0.0 0.0 0.0 0.0 0.0 0.0 0.0 0.0 \n",
      "0.0 0.0 0.0 0.0 0.0 0.0 0.0 0.0 0.0 0.0 0.0 \n",
      "0.0 0.0 0.0 0.0 0.0 0.0 0.0 0.0 0.0 0.0 0.0 \n"
     ]
    }
   ],
   "source": [
    "import numpy as np\n",
    "import random\n",
    "\n",
    "T = 1000\n",
    "x_max = 10\n",
    "# P(D=1) distribution\n",
    "Pd = [i/1000 for i in range(T + 1)]\n",
    "# holding cost\n",
    "h = 0.01\n",
    "# purchase cost\n",
    "c = 10\n",
    "# selling price\n",
    "p = 20\n",
    "# order cost\n",
    "K = 10\n",
    "\n",
    "V = np.array([[float(0) for i in range(T + 1)] for j in range(x_max + 1)])\n",
    "alpha = np.array([[float(0)for i in range(T + 1)] for j in range(x_max + 1)])\n",
    "\n",
    "# initialized the last column: hx\n",
    "V[:, -1] = [x * h for x in range(0, x_max + 1)] \n",
    "\n",
    "\n",
    "for t in range(T - 1, 0, -1):\n",
    "    if t > 900:\n",
    "        c = 0\n",
    "    elif t > 500 and t <= 900:\n",
    "        c = 15\n",
    "    else: \n",
    "        c = 10\n",
    "\n",
    "    dIsOne = Pd[t]\n",
    "    dIsZero = round(1 - dIsOne, 3)\n",
    "    # P(d=1) increases linearly as t increases\n",
    "    d = random.choices([1, 0], weights=(dIsOne, dIsZero), k = 1)[0]\n",
    "    \n",
    "    if t > 900:\n",
    "        # At t > 900 no order can be placed, so the optimal policy would be just a copy of optimal policy at t = 900\n",
    "        for x in range(0, x_max):\n",
    "            Q = {}\n",
    "            E = dIsOne * V[x - 1][t + 1] + dIsZero * V[x - 0][t + 1]  \n",
    "            \n",
    "            # items can only be sold\n",
    "            V[x][t] = (-h * x)  + dIsOne * p + E\n",
    "\n",
    "            # optimal policy remains unchanged after t = 900\n",
    "            alpha[x][t]= alpha[x][t+1]\n",
    "\n",
    "    # when  t <= 900\n",
    "    else: \n",
    "        for x in range(0, x_max):\n",
    "            Q = {}\n",
    "            for a in range(max(d-x,0) , x_max - x + d):\n",
    "                E = dIsOne * V[x - 1 + a][t + 1] + dIsZero * V[x - 0 + a][t + 1]\n",
    "                order_cost = K if a > 0 else 0    \n",
    "                Q[a] = (-h * x) - order_cost - (c * a)  + dIsOne * p + E\n",
    "            V[x][t] = Q[max(d-x, 0)]\n",
    "            alpha[x][t]= max(d-x, 0)\n",
    "            for a in range(max(d-x,0), x_max-x+d):\n",
    "                if(Q[a] > V[x][t]):\n",
    "                    alpha[x][t]=a\n",
    "                    V[x][t] = Q[a]\n",
    "\n",
    "\n",
    "\n",
    "for i in range(x_max + 1):\n",
    "    for j in range(990, T + 1):\n",
    "        print(V[i][j],end=' ')\n",
    "    print() \n",
    "print ('-------------------')\n",
    "\n",
    "\n",
    "\n",
    "\n",
    "print('------------')\n",
    "\n",
    "for i in range(x_max + 1):\n",
    "    for j in range(990, T + 1):\n",
    "        print(alpha[i][j], end = ' ')\n",
    "    print()\n",
    "\n",
    "print('------------')\n",
    "\n",
    "for i in range(x_max + 1):\n",
    "    for j in range(0, 11):\n",
    "        print(V[i][j],end=' ')\n",
    "    print() \n",
    "\n",
    "print('------------')\n",
    "\n",
    "for i in range(x_max + 1):\n",
    "    for j in range(0, 11):\n",
    "        print(alpha[i][j], end = ' ')\n",
    "    print()\n",
    "\n"
   ]
  },
  {
   "cell_type": "markdown",
   "metadata": {},
   "source": [
    "\n",
    "### Choose appropriate X and A  use dynamic programming (programmed in \n",
    "python) to determine the total expected profit and the optimal order policy, \n",
    "starting with 0 inventory at time 0\n",
    "\n",
    "- X(state) is  the current number of items in inventory max value of which can be\n",
    "     x_max(currently 10 is used for simplicity of understanding) - current level + demand\n",
    "- A(action) is placing an order "
   ]
  },
  {
   "cell_type": "markdown",
   "metadata": {},
   "source": [
    "### Part B"
   ]
  },
  {
   "cell_type": "code",
   "execution_count": 15,
   "metadata": {},
   "outputs": [],
   "source": [
    "import matplotlib.pyplot as plt\n",
    "\n",
    "def plotter(Z, T, S, title):\n",
    "    x = np.arange(0,T+1)\n",
    "    y = np.arange(0,S+1)\n",
    "    X,Y = np.meshgrid(x, y)\n",
    "    fig = plt.figure(figsize=(7, 4), dpi=80)\n",
    "    ax = fig.add_subplot(111)\n",
    "    contour = ax.contourf(X, Y, Z, 20)\n",
    "    fig.colorbar(contour)\n",
    "    plt.xlabel(\"Time\", fontsize=12)\n",
    "    plt.ylabel(\"InventoryLevel\", fontsize=12)\n",
    "    plt.title(title, fontsize=14)\n",
    "    plt.show()"
   ]
  },
  {
   "cell_type": "code",
   "execution_count": 16,
   "metadata": {},
   "outputs": [
    {
     "data": {
      "image/png": "[encoded data removed]",
      "text/plain": [
       "<Figure size 560x320 with 2 Axes>"
      ]
     },
     "metadata": {
      "needs_background": "light"
     },
     "output_type": "display_data"
    }
   ],
   "source": [
    "plotter(V, T, x_max, \"Value Function Variation with Time and Inventory Level\")"
   ]
  }
 ],
 "metadata": {
  "kernelspec": {
   "display_name": "Python 3",
   "language": "python",
   "name": "python3"
  },
  "language_info": {
   "codemirror_mode": {
    "name": "ipython",
    "version": 3
   },
   "file_extension": ".py",
   "mimetype": "text/x-python",
   "name": "python",
   "nbconvert_exporter": "python",
   "pygments_lexer": "ipython3",
   "version": "3.7.3"
  },
  "vscode": {
   "interpreter": {
    "hash": "8bbc58a7c4986f6308d4f203a00ca7c9d657ee04ad86f096fcd1372506c6382d"
   }
  }
 },
 "nbformat": 4,
 "nbformat_minor": 2
}
