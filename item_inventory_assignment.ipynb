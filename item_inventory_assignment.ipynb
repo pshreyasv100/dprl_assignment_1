{
 "cells": [
  {
   "cell_type": "markdown",
   "metadata": {},
   "source": [
    "\n",
    "### Task A \n",
    "Choose appropriate X and A  use dynamic programming (programmed in \n",
    "python) to determine the total expected profit and the optimal order policy, \n",
    "starting with 0 inventory at time 0\n"
   ]
  },
  {
   "cell_type": "code",
   "execution_count": 2,
   "metadata": {},
   "outputs": [],
   "source": [
    "import numpy as np\n",
    "import pandas as pd\n",
    "import random\n",
    "import seaborn as sns\n"
   ]
  },
  {
   "cell_type": "code",
   "execution_count": 3,
   "metadata": {},
   "outputs": [],
   "source": [
    "def get_policy():\n",
    "    T = 1000\n",
    "    x_max = 400\n",
    "    # holding cost\n",
    "    h = 0.01\n",
    "    # purchase cost\n",
    "    c = 10\n",
    "    # selling price\n",
    "    p = 20\n",
    "    # order cost\n",
    "    K = 10\n",
    "\n",
    "    V = np.array([[float(0) for i in range(T)] for j in range(x_max + 1)])\n",
    "    alpha = np.array([[float(0)for i in range(T)] for j in range(x_max + 1)])\n",
    "\n",
    "    # initialize the last column: hx\n",
    "    V[:, -1] = [x * h for x in range(0, x_max + 1)] \n",
    "\n",
    "    for t in range(T - 2, -1, -1):\n",
    "        c = 10 if t <= 500 else 15\n",
    "        # P(D=1) distribution\n",
    "        dIsOne = t / 1000\n",
    "        dIsZero = 1 - dIsOne\n",
    "        if t > 900:\n",
    "            # At t > 900 no order can be placed, so a = 0\n",
    "            for x in range(0, x_max + 1):\n",
    "                if x > 0:\n",
    "                    # reward only exists when x > 0 since no more action can be taken\n",
    "                    E = dIsOne * V[x - 1][t + 1] + dIsZero * V[x - 0][t + 1]  \n",
    "                    V[x][t] = (-h * x) + (dIsOne * p) + E\n",
    "                else:\n",
    "                    # in case x = 0, x stays 0 for the rest of the time because no buying is possible\n",
    "                    # Vx(t) = Vx(t+1) because no more profit can be made when the inventory is empty regardless the value of P(d=1)\n",
    "                    V[x][t] = V[x][t + 1]\n",
    "                # optimal policy remains unchanged after t = 900\n",
    "                alpha[x][t]= alpha[x][t+1]\n",
    "        # when  t <= 900\n",
    "        else: \n",
    "            for x in range(0, x_max + 1):\n",
    "                # Q stores values for all possible actions\n",
    "                Q = {}\n",
    "                for a in range(0 , x_max - x + 1):\n",
    "                    # in case dIsOne, it's possible that x - d + a < 0 which means \\\n",
    "                    # there is a determined lost sale at t + 1, however, there is no x = -1 at t + 1 \\\n",
    "                    # since there is no backorder, the V[-1][t+1] will just be 0\n",
    "                    if x - 1 + a < 0:\n",
    "                        E = dIsOne * 0 + dIsZero * V[x - 0 + a][t + 1] \n",
    "                    else:\n",
    "                        E = dIsOne * V[x - 1 + a][t + 1] + dIsZero * V[x - 0 + a][t + 1] \n",
    "                    Q[a] = (-h * x) - K * (a > 0) - (c * a)  + (dIsOne * p) + E\n",
    "                # find the max values and the corresponding policy\n",
    "                V[x][t] = max(Q.values())\n",
    "                alpha[x][t]= max(Q, key = Q.get)\n",
    "    return (alpha, V)\n"
   ]
  },
  {
   "cell_type": "code",
   "execution_count": 4,
   "metadata": {},
   "outputs": [],
   "source": [
    "optimal_policy, expected_profit = get_policy()"
   ]
  },
  {
   "cell_type": "code",
   "execution_count": 5,
   "metadata": {},
   "outputs": [
    {
     "name": "stdout",
     "output_type": "stream",
     "text": [
      "The total expected profit is 3787.1525574965212\n",
      "The optimal policy is stored in the optimal_policy\n"
     ]
    }
   ],
   "source": [
    "print('The total expected profit is', expected_profit[0,0])\n",
    "print('The optimal policy is stored in the optimal_policy')"
   ]
  },
  {
   "cell_type": "markdown",
   "metadata": {},
   "source": [
    "### Task B\n",
    "Visualize the optimal policy and explain its structure in words, why you think this is logical"
   ]
  },
  {
   "cell_type": "code",
   "execution_count": 6,
   "metadata": {},
   "outputs": [
    {
     "data": {
      "text/plain": [
       "<AxesSubplot:xlabel='time', ylabel='optimal_action'>"
      ]
     },
     "execution_count": 6,
     "metadata": {},
     "output_type": "execute_result"
    },
    {
     "data": {
      "image/png": "[encoded data removed]",
      "text/plain": [
       "<Figure size 432x288 with 1 Axes>"
      ]
     },
     "metadata": {
      "needs_background": "light"
     },
     "output_type": "display_data"
    }
   ],
   "source": [
    "optimal_action_dict = {}\n",
    "current_state = 0\n",
    "current_state = 0\n",
    "for t in range(0, len(optimal_policy[0])):\n",
    "    optimal_action_dict[t] = (optimal_policy[current_state][t - 1])\n",
    "    current_state = int(optimal_policy[current_state][t])\n",
    "\n",
    "optimal_policy_df = pd.DataFrame(optimal_action_dict.items(), columns=['time', 'optimal_action'])\n",
    "\n",
    "sns.lineplot(data=optimal_policy_df, x='time', y='optimal_action')"
   ]
  },
  {
   "cell_type": "markdown",
   "metadata": {},
   "source": [
    "### Task C\n",
    "\n",
    "Simulate 10 times the demand over time starting from inventory 0, record the state and apply the optimal policy. For each trace plot the inventory and lost sales in a graph."
   ]
  },
  {
   "cell_type": "code",
   "execution_count": 16,
   "metadata": {},
   "outputs": [],
   "source": [
    "# Number of simulations \n",
    "MAX_SIM = 10\n",
    "\n",
    "# To store the inventory level fo each simulation\n",
    "inventory_lvl_list = []\n",
    "# To store the lost sale of each simulation\n",
    "lost_sale_list = []\n",
    "\n",
    "# To store total profit of each simulation\n",
    "profit_list = []\n",
    "\n",
    "for sim in range(1, MAX_SIM + 1):\n",
    "    # stores inventory lvl at each time period\n",
    "    inventory_lvl_dict = {}\n",
    "    inventory = 0\n",
    "\n",
    "    #stores cumulative lost sales at each time period\n",
    "    lost_sale_dict = {}\n",
    "    lost_sale = 0\n",
    "\n",
    "    # stores profit of current simulation\n",
    "    profit = 0\n",
    "\n",
    "    # holding cost\n",
    "    h = 0.01\n",
    "\n",
    "    for t in range(1, len(optimal_policy[0]) + 1):\n",
    "        dIsOne = t / 1000\n",
    "        dIsZero = 1 - dIsOne\n",
    "        # d is assigned to 1 or 0 based on the weights of dIsOne and dIsZero\n",
    "        d = random.choices([1, 0], weights=(dIsOne, dIsZero), k = 1)[0]\n",
    "\n",
    "        # cost of purchasing at different times post t=900 no item can be purchased\n",
    "        c = 10 if t <= 500 else (15 if t <= 900 else None)\n",
    "        # selling price is 20 and constant\n",
    "        sp = 20\n",
    "\n",
    "        # profit calculation\n",
    "        if c is not None:\n",
    "            profit += d * sp - optimal_policy[int(inventory)][t] * c - inventory*h\n",
    "        else :\n",
    "            profit +=  d * sp - h * inventory\n",
    "\n",
    "        inventory += optimal_policy[int(inventory)][t - 1] - d\n",
    "\n",
    "        inventory_lvl_dict[t] = inventory\n",
    "        if inventory == 0 and d > 0:\n",
    "            lost_sale += 1\n",
    "            is_lost_sale = True\n",
    "            \n",
    "        lost_sale_dict[t] = lost_sale\n",
    "\n",
    "    profit_list.append(profit)\n",
    "\n",
    "\n",
    "    # Saving the inventory level results  of current simulation \n",
    "    tmp_df = pd.DataFrame(inventory_lvl_dict.items(), columns=['time', 'inventory_lvl'])\n",
    "    tmp_df['simulation'] = sim\n",
    "    inventory_lvl_list.append(tmp_df)\n",
    "\n",
    "    # Saving the lost sales results of current simulation \n",
    "    tmp_df = pd.DataFrame(lost_sale_dict.items(), columns=['time', 'lost_sale'])\n",
    "    tmp_df['simulation'] = sim\n",
    "    lost_sale_list.append(tmp_df)\n",
    "\n"
   ]
  },
  {
   "cell_type": "code",
   "execution_count": 18,
   "metadata": {},
   "outputs": [
    {
     "data": {
      "text/html": [
       "<div>\n",
       "<style scoped>\n",
       "    .dataframe tbody tr th:only-of-type {\n",
       "        vertical-align: middle;\n",
       "    }\n",
       "\n",
       "    .dataframe tbody tr th {\n",
       "        vertical-align: top;\n",
       "    }\n",
       "\n",
       "    .dataframe thead th {\n",
       "        text-align: right;\n",
       "    }\n",
       "</style>\n",
       "<table border=\"1\" class=\"dataframe\">\n",
       "  <thead>\n",
       "    <tr style=\"text-align: right;\">\n",
       "      <th></th>\n",
       "      <th>Simulation</th>\n",
       "      <th>Profit</th>\n",
       "    </tr>\n",
       "  </thead>\n",
       "  <tbody>\n",
       "    <tr>\n",
       "      <th>0</th>\n",
       "      <td>1</td>\n",
       "      <td>3860.92</td>\n",
       "    </tr>\n",
       "    <tr>\n",
       "      <th>1</th>\n",
       "      <td>2</td>\n",
       "      <td>3778.74</td>\n",
       "    </tr>\n",
       "    <tr>\n",
       "      <th>2</th>\n",
       "      <td>3</td>\n",
       "      <td>3858.65</td>\n",
       "    </tr>\n",
       "    <tr>\n",
       "      <th>3</th>\n",
       "      <td>4</td>\n",
       "      <td>3883.73</td>\n",
       "    </tr>\n",
       "    <tr>\n",
       "      <th>4</th>\n",
       "      <td>5</td>\n",
       "      <td>3819.86</td>\n",
       "    </tr>\n",
       "    <tr>\n",
       "      <th>5</th>\n",
       "      <td>6</td>\n",
       "      <td>4012.77</td>\n",
       "    </tr>\n",
       "    <tr>\n",
       "      <th>6</th>\n",
       "      <td>7</td>\n",
       "      <td>3968.72</td>\n",
       "    </tr>\n",
       "    <tr>\n",
       "      <th>7</th>\n",
       "      <td>8</td>\n",
       "      <td>3220.61</td>\n",
       "    </tr>\n",
       "    <tr>\n",
       "      <th>8</th>\n",
       "      <td>9</td>\n",
       "      <td>3813.06</td>\n",
       "    </tr>\n",
       "    <tr>\n",
       "      <th>9</th>\n",
       "      <td>10</td>\n",
       "      <td>3645.93</td>\n",
       "    </tr>\n",
       "  </tbody>\n",
       "</table>\n",
       "</div>"
      ],
      "text/plain": [
       "   Simulation   Profit\n",
       "0           1  3860.92\n",
       "1           2  3778.74\n",
       "2           3  3858.65\n",
       "3           4  3883.73\n",
       "4           5  3819.86\n",
       "5           6  4012.77\n",
       "6           7  3968.72\n",
       "7           8  3220.61\n",
       "8           9  3813.06\n",
       "9          10  3645.93"
      ]
     },
     "execution_count": 18,
     "metadata": {},
     "output_type": "execute_result"
    }
   ],
   "source": [
    "profit_tmp = [(i, profit) for i, profit in enumerate(profit_list, start=1)]\n",
    "profit_df = pd.DataFrame(profit_tmp, columns=['Simulation', 'Profit'])\n",
    "profit_df"
   ]
  },
  {
   "cell_type": "code",
   "execution_count": 17,
   "metadata": {},
   "outputs": [
    {
     "name": "stdout",
     "output_type": "stream",
     "text": [
      "Average profit of 10 simulations : 3786.299\n"
     ]
    }
   ],
   "source": [
    "print(f'Average profit of {MAX_SIM} simulations : {np.mean(profit_list)}')"
   ]
  },
  {
   "cell_type": "code",
   "execution_count": 19,
   "metadata": {},
   "outputs": [
    {
     "data": {
      "text/plain": [
       "<AxesSubplot:xlabel='time', ylabel='lost_sale'>"
      ]
     },
     "execution_count": 19,
     "metadata": {},
     "output_type": "execute_result"
    },
    {
     "data": {
      "image/png": "[encoded data removed]",
      "text/plain": [
       "<Figure size 432x288 with 1 Axes>"
      ]
     },
     "metadata": {
      "needs_background": "light"
     },
     "output_type": "display_data"
    }
   ],
   "source": [
    "lost_sale_df = pd.concat(lost_sale_list)\n",
    "\n",
    "sns.lineplot(data=lost_sale_df, x='time', y='lost_sale', hue='simulation', \\\n",
    "    palette=['#e6194B', '#f58231', '#ffe119', '#bfef45', '#3cb44b', '#42d4f4', '#4363d8', '#911eb4', '#f032e6', '#a9a9a9'])"
   ]
  },
  {
   "cell_type": "code",
   "execution_count": 20,
   "metadata": {},
   "outputs": [
    {
     "data": {
      "text/plain": [
       "<AxesSubplot:xlabel='time', ylabel='inventory_lvl'>"
      ]
     },
     "execution_count": 20,
     "metadata": {},
     "output_type": "execute_result"
    },
    {
     "data": {
      "image/png": "[encoded data removed]",
      "text/plain": [
       "<Figure size 432x288 with 1 Axes>"
      ]
     },
     "metadata": {
      "needs_background": "light"
     },
     "output_type": "display_data"
    }
   ],
   "source": [
    "inventory_lvl_df = pd.concat(inventory_lvl_list)\n",
    "\n",
    "sns.lineplot(data=inventory_lvl_df, x='time', y='inventory_lvl', hue='simulation', \\\n",
    "palette=['#e6194B', '#f58231', '#ffe119', '#bfef45', '#3cb44b', '#42d4f4', '#4363d8', '#911eb4', '#f032e6', '#a9a9a9'])"
   ]
  }
 ],
 "metadata": {
  "kernelspec": {
   "display_name": "Python 3.7.3 64-bit",
   "language": "python",
   "name": "python3"
  },
  "language_info": {
   "codemirror_mode": {
    "name": "ipython",
    "version": 3
   },
   "file_extension": ".py",
   "mimetype": "text/x-python",
   "name": "python",
   "nbconvert_exporter": "python",
   "pygments_lexer": "ipython3",
   "version": "3.7.3"
  },
  "vscode": {
   "interpreter": {
    "hash": "8bbc58a7c4986f6308d4f203a00ca7c9d657ee04ad86f096fcd1372506c6382d"
   }
  }
 },
 "nbformat": 4,
 "nbformat_minor": 2
}
